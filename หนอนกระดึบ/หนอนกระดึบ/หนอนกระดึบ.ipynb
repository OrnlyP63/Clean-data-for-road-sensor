{
 "cells": [
  {
   "cell_type": "code",
   "execution_count": 1,
   "metadata": {},
   "outputs": [],
   "source": [
    "import numpy as np\n",
    "import pandas as pd"
   ]
  },
  {
   "cell_type": "markdown",
   "metadata": {},
   "source": [
    "1. ดึงข้อมูลมา CSV มาทำให้เป็น Data Frame."
   ]
  },
  {
   "cell_type": "code",
   "execution_count": 2,
   "metadata": {},
   "outputs": [],
   "source": [
    "data = pd.read_csv('data.csv')"
   ]
  },
  {
   "cell_type": "code",
   "execution_count": 3,
   "metadata": {},
   "outputs": [
    {
     "data": {
      "text/html": [
       "<div>\n",
       "<style scoped>\n",
       "    .dataframe tbody tr th:only-of-type {\n",
       "        vertical-align: middle;\n",
       "    }\n",
       "\n",
       "    .dataframe tbody tr th {\n",
       "        vertical-align: top;\n",
       "    }\n",
       "\n",
       "    .dataframe thead th {\n",
       "        text-align: right;\n",
       "    }\n",
       "</style>\n",
       "<table border=\"1\" class=\"dataframe\">\n",
       "  <thead>\n",
       "    <tr style=\"text-align: right;\">\n",
       "      <th></th>\n",
       "      <th>date</th>\n",
       "      <th>sensor_v2.agg_tag</th>\n",
       "      <th>sensor_v2.avg_speed</th>\n",
       "    </tr>\n",
       "  </thead>\n",
       "  <tbody>\n",
       "    <tr>\n",
       "      <th>0</th>\n",
       "      <td>11/4/2019 0:00</td>\n",
       "      <td>1</td>\n",
       "      <td>76.664726</td>\n",
       "    </tr>\n",
       "    <tr>\n",
       "      <th>1</th>\n",
       "      <td>11/4/2019 0:00</td>\n",
       "      <td>1</td>\n",
       "      <td>99.527657</td>\n",
       "    </tr>\n",
       "    <tr>\n",
       "      <th>2</th>\n",
       "      <td>11/4/2019 0:00</td>\n",
       "      <td>1</td>\n",
       "      <td>97.983643</td>\n",
       "    </tr>\n",
       "    <tr>\n",
       "      <th>3</th>\n",
       "      <td>11/4/2019 0:01</td>\n",
       "      <td>1</td>\n",
       "      <td>76.575317</td>\n",
       "    </tr>\n",
       "    <tr>\n",
       "      <th>4</th>\n",
       "      <td>11/4/2019 0:01</td>\n",
       "      <td>1</td>\n",
       "      <td>90.508705</td>\n",
       "    </tr>\n",
       "  </tbody>\n",
       "</table>\n",
       "</div>"
      ],
      "text/plain": [
       "             date  sensor_v2.agg_tag  sensor_v2.avg_speed\n",
       "0  11/4/2019 0:00                  1            76.664726\n",
       "1  11/4/2019 0:00                  1            99.527657\n",
       "2  11/4/2019 0:00                  1            97.983643\n",
       "3  11/4/2019 0:01                  1            76.575317\n",
       "4  11/4/2019 0:01                  1            90.508705"
      ]
     },
     "execution_count": 3,
     "metadata": {},
     "output_type": "execute_result"
    }
   ],
   "source": [
    "data.head()"
   ]
  },
  {
   "cell_type": "markdown",
   "metadata": {},
   "source": [
    "2. แบ่งข้อมูล Date เป็น day และ time"
   ]
  },
  {
   "cell_type": "code",
   "execution_count": 4,
   "metadata": {},
   "outputs": [],
   "source": [
    "new = data.date.str.split(' ',n=1, expand=True)"
   ]
  },
  {
   "cell_type": "code",
   "execution_count": 5,
   "metadata": {},
   "outputs": [],
   "source": [
    "data['day'] = new[0]\n",
    "data['time'] = new[1]"
   ]
  },
  {
   "cell_type": "code",
   "execution_count": 6,
   "metadata": {},
   "outputs": [],
   "source": [
    "data = data[data['day'].str.contains('11/5/2019')]"
   ]
  },
  {
   "cell_type": "code",
   "execution_count": 7,
   "metadata": {},
   "outputs": [
    {
     "data": {
      "text/html": [
       "<div>\n",
       "<style scoped>\n",
       "    .dataframe tbody tr th:only-of-type {\n",
       "        vertical-align: middle;\n",
       "    }\n",
       "\n",
       "    .dataframe tbody tr th {\n",
       "        vertical-align: top;\n",
       "    }\n",
       "\n",
       "    .dataframe thead th {\n",
       "        text-align: right;\n",
       "    }\n",
       "</style>\n",
       "<table border=\"1\" class=\"dataframe\">\n",
       "  <thead>\n",
       "    <tr style=\"text-align: right;\">\n",
       "      <th></th>\n",
       "      <th>date</th>\n",
       "      <th>sensor_v2.agg_tag</th>\n",
       "      <th>sensor_v2.avg_speed</th>\n",
       "      <th>day</th>\n",
       "      <th>time</th>\n",
       "    </tr>\n",
       "  </thead>\n",
       "  <tbody>\n",
       "    <tr>\n",
       "      <th>3647</th>\n",
       "      <td>11/5/2019 0:00</td>\n",
       "      <td>1</td>\n",
       "      <td>98.894310</td>\n",
       "      <td>11/5/2019</td>\n",
       "      <td>0:00</td>\n",
       "    </tr>\n",
       "    <tr>\n",
       "      <th>3648</th>\n",
       "      <td>11/5/2019 0:01</td>\n",
       "      <td>1</td>\n",
       "      <td>101.238907</td>\n",
       "      <td>11/5/2019</td>\n",
       "      <td>0:01</td>\n",
       "    </tr>\n",
       "    <tr>\n",
       "      <th>3649</th>\n",
       "      <td>11/5/2019 0:02</td>\n",
       "      <td>1</td>\n",
       "      <td>81.926285</td>\n",
       "      <td>11/5/2019</td>\n",
       "      <td>0:02</td>\n",
       "    </tr>\n",
       "    <tr>\n",
       "      <th>3650</th>\n",
       "      <td>11/5/2019 0:02</td>\n",
       "      <td>1</td>\n",
       "      <td>89.578957</td>\n",
       "      <td>11/5/2019</td>\n",
       "      <td>0:02</td>\n",
       "    </tr>\n",
       "    <tr>\n",
       "      <th>3651</th>\n",
       "      <td>11/5/2019 0:02</td>\n",
       "      <td>1</td>\n",
       "      <td>111.653862</td>\n",
       "      <td>11/5/2019</td>\n",
       "      <td>0:02</td>\n",
       "    </tr>\n",
       "  </tbody>\n",
       "</table>\n",
       "</div>"
      ],
      "text/plain": [
       "                date  sensor_v2.agg_tag  sensor_v2.avg_speed        day  time\n",
       "3647  11/5/2019 0:00                  1            98.894310  11/5/2019  0:00\n",
       "3648  11/5/2019 0:01                  1           101.238907  11/5/2019  0:01\n",
       "3649  11/5/2019 0:02                  1            81.926285  11/5/2019  0:02\n",
       "3650  11/5/2019 0:02                  1            89.578957  11/5/2019  0:02\n",
       "3651  11/5/2019 0:02                  1           111.653862  11/5/2019  0:02"
      ]
     },
     "execution_count": 7,
     "metadata": {},
     "output_type": "execute_result"
    }
   ],
   "source": [
    "data.head()"
   ]
  },
  {
   "cell_type": "markdown",
   "metadata": {},
   "source": [
    "3. จัดข้อมูล ที่เป็น tag และ time เดียวกัน แล้วหาค่าเฉลี่ย"
   ]
  },
  {
   "cell_type": "code",
   "execution_count": 8,
   "metadata": {},
   "outputs": [],
   "source": [
    "arv_data = data.groupby(['sensor_v2.agg_tag','time']).mean()"
   ]
  },
  {
   "cell_type": "code",
   "execution_count": 9,
   "metadata": {},
   "outputs": [],
   "source": [
    "#arv_data.to_csv('arv_data.csv')"
   ]
  },
  {
   "cell_type": "code",
   "execution_count": 10,
   "metadata": {},
   "outputs": [],
   "source": [
    "arv_data = pd.read_csv('arv_data')"
   ]
  },
  {
   "cell_type": "code",
   "execution_count": 11,
   "metadata": {},
   "outputs": [
    {
     "data": {
      "text/html": [
       "<div>\n",
       "<style scoped>\n",
       "    .dataframe tbody tr th:only-of-type {\n",
       "        vertical-align: middle;\n",
       "    }\n",
       "\n",
       "    .dataframe tbody tr th {\n",
       "        vertical-align: top;\n",
       "    }\n",
       "\n",
       "    .dataframe thead th {\n",
       "        text-align: right;\n",
       "    }\n",
       "</style>\n",
       "<table border=\"1\" class=\"dataframe\">\n",
       "  <thead>\n",
       "    <tr style=\"text-align: right;\">\n",
       "      <th></th>\n",
       "      <th>sensor_v2.agg_tag</th>\n",
       "      <th>time</th>\n",
       "      <th>sensor_v2.avg_speed</th>\n",
       "    </tr>\n",
       "  </thead>\n",
       "  <tbody>\n",
       "    <tr>\n",
       "      <th>0</th>\n",
       "      <td>1</td>\n",
       "      <td>0:00</td>\n",
       "      <td>98.894310</td>\n",
       "    </tr>\n",
       "    <tr>\n",
       "      <th>1</th>\n",
       "      <td>1</td>\n",
       "      <td>0:01</td>\n",
       "      <td>101.238907</td>\n",
       "    </tr>\n",
       "    <tr>\n",
       "      <th>2</th>\n",
       "      <td>1</td>\n",
       "      <td>0:02</td>\n",
       "      <td>94.386368</td>\n",
       "    </tr>\n",
       "    <tr>\n",
       "      <th>3</th>\n",
       "      <td>1</td>\n",
       "      <td>0:03</td>\n",
       "      <td>80.918354</td>\n",
       "    </tr>\n",
       "    <tr>\n",
       "      <th>4</th>\n",
       "      <td>1</td>\n",
       "      <td>0:04</td>\n",
       "      <td>103.639690</td>\n",
       "    </tr>\n",
       "  </tbody>\n",
       "</table>\n",
       "</div>"
      ],
      "text/plain": [
       "   sensor_v2.agg_tag  time  sensor_v2.avg_speed\n",
       "0                  1  0:00            98.894310\n",
       "1                  1  0:01           101.238907\n",
       "2                  1  0:02            94.386368\n",
       "3                  1  0:03            80.918354\n",
       "4                  1  0:04           103.639690"
      ]
     },
     "execution_count": 11,
     "metadata": {},
     "output_type": "execute_result"
    }
   ],
   "source": [
    "arv_data.head()"
   ]
  },
  {
   "cell_type": "markdown",
   "metadata": {},
   "source": [
    "4.นำคอลัมน์ Date ที่เป็นข้อมูลประเภท string มาแปลงให้เป็นประเภท time"
   ]
  },
  {
   "cell_type": "code",
   "execution_count": 12,
   "metadata": {},
   "outputs": [],
   "source": [
    "time = data['date'].tolist()"
   ]
  },
  {
   "cell_type": "code",
   "execution_count": 13,
   "metadata": {},
   "outputs": [],
   "source": [
    "from datetime import datetime\n"
   ]
  },
  {
   "cell_type": "code",
   "execution_count": 14,
   "metadata": {},
   "outputs": [],
   "source": [
    "date_time=[] #start at here!!!!\n",
    "for t in  range(len(time)):\n",
    "    datetime_str = time[t]\n",
    "\n",
    "    datetime_object = datetime.strptime(datetime_str, '%m/%d/%Y %H:%M')\n",
    "\n",
    "    date_time.append(datetime_object)\n"
   ]
  },
  {
   "cell_type": "code",
   "execution_count": 15,
   "metadata": {},
   "outputs": [],
   "source": [
    "data['date_time'] = date_time"
   ]
  },
  {
   "cell_type": "code",
   "execution_count": 16,
   "metadata": {},
   "outputs": [],
   "source": [
    "data=data.sort_values(by=['sensor_v2.agg_tag','date_time'])"
   ]
  },
  {
   "cell_type": "markdown",
   "metadata": {},
   "source": [
    "5. นำข้อมูลมาจัดกลุ่มด้วย ตัวแปร tag กับ date_time แล้วหาค่า เฉลี่ย"
   ]
  },
  {
   "cell_type": "code",
   "execution_count": 17,
   "metadata": {},
   "outputs": [],
   "source": [
    "data = data.groupby(['sensor_v2.agg_tag','date_time']).mean()"
   ]
  },
  {
   "cell_type": "code",
   "execution_count": 18,
   "metadata": {},
   "outputs": [
    {
     "data": {
      "text/plain": [
       "date_time\n",
       "2019-11-05 00:00:00     98.894310\n",
       "2019-11-05 00:01:00    101.238907\n",
       "2019-11-05 00:02:00     94.386368\n",
       "2019-11-05 00:03:00     80.918354\n",
       "2019-11-05 00:04:00    103.639690\n",
       "                          ...    \n",
       "2019-11-05 23:55:00    104.823855\n",
       "2019-11-05 23:56:00    102.021946\n",
       "2019-11-05 23:57:00    119.672818\n",
       "2019-11-05 23:58:00    110.031342\n",
       "2019-11-05 23:59:00    108.623657\n",
       "Name: sensor_v2.avg_speed, Length: 1392, dtype: float64"
      ]
     },
     "execution_count": 18,
     "metadata": {},
     "output_type": "execute_result"
    }
   ],
   "source": [
    "data['sensor_v2.avg_speed'][1]"
   ]
  },
  {
   "cell_type": "markdown",
   "metadata": {},
   "source": [
    "6. สร้าง Dataframe ว่าง ด้วย index times และ column sensor"
   ]
  },
  {
   "cell_type": "code",
   "execution_count": 19,
   "metadata": {},
   "outputs": [],
   "source": [
    "times = pd.date_range(\"2019-11-05 00:00:00\", \"2019-11-05 23:59:00\", freq=\"1min\")   "
   ]
  },
  {
   "cell_type": "code",
   "execution_count": 31,
   "metadata": {},
   "outputs": [],
   "source": [
    "#df_None = pd.DataFrame(columns=['sensor{}'.format(i) for i in range(1,34)], index=times)\n",
    "df_None = pd.DataFrame(index=times)"
   ]
  },
  {
   "cell_type": "code",
   "execution_count": 34,
   "metadata": {},
   "outputs": [
    {
     "data": {
      "text/html": [
       "<div>\n",
       "<style scoped>\n",
       "    .dataframe tbody tr th:only-of-type {\n",
       "        vertical-align: middle;\n",
       "    }\n",
       "\n",
       "    .dataframe tbody tr th {\n",
       "        vertical-align: top;\n",
       "    }\n",
       "\n",
       "    .dataframe thead th {\n",
       "        text-align: right;\n",
       "    }\n",
       "</style>\n",
       "<table border=\"1\" class=\"dataframe\">\n",
       "  <thead>\n",
       "    <tr style=\"text-align: right;\">\n",
       "      <th></th>\n",
       "      <th>sensor1</th>\n",
       "      <th>sensor2</th>\n",
       "      <th>sensor3</th>\n",
       "      <th>sensor4</th>\n",
       "      <th>sensor5</th>\n",
       "      <th>sensor6</th>\n",
       "      <th>sensor7</th>\n",
       "      <th>sensor8</th>\n",
       "      <th>sensor9</th>\n",
       "      <th>sensor10</th>\n",
       "      <th>...</th>\n",
       "      <th>sensor13</th>\n",
       "      <th>sensor14</th>\n",
       "      <th>sensor15</th>\n",
       "      <th>sensor16</th>\n",
       "      <th>sensor17</th>\n",
       "      <th>sensor18</th>\n",
       "      <th>sensor19</th>\n",
       "      <th>sensor20</th>\n",
       "      <th>sensor21</th>\n",
       "      <th>sensor22</th>\n",
       "    </tr>\n",
       "  </thead>\n",
       "  <tbody>\n",
       "    <tr>\n",
       "      <th>2019-11-05 00:00:00</th>\n",
       "      <td>98.894310</td>\n",
       "      <td>126.933681</td>\n",
       "      <td>94.689281</td>\n",
       "      <td>107.328125</td>\n",
       "      <td>NaN</td>\n",
       "      <td>84.786873</td>\n",
       "      <td>96.313023</td>\n",
       "      <td>99.578835</td>\n",
       "      <td>85.912354</td>\n",
       "      <td>100.292511</td>\n",
       "      <td>...</td>\n",
       "      <td>95.543915</td>\n",
       "      <td>86.185856</td>\n",
       "      <td>99.401596</td>\n",
       "      <td>78.881619</td>\n",
       "      <td>83.114784</td>\n",
       "      <td>93.060748</td>\n",
       "      <td>100.478717</td>\n",
       "      <td>105.168165</td>\n",
       "      <td>103.595942</td>\n",
       "      <td>96.158620</td>\n",
       "    </tr>\n",
       "    <tr>\n",
       "      <th>2019-11-05 00:01:00</th>\n",
       "      <td>101.238907</td>\n",
       "      <td>120.542236</td>\n",
       "      <td>109.287640</td>\n",
       "      <td>99.872089</td>\n",
       "      <td>90.789818</td>\n",
       "      <td>92.261373</td>\n",
       "      <td>85.954595</td>\n",
       "      <td>110.415169</td>\n",
       "      <td>90.073643</td>\n",
       "      <td>94.676312</td>\n",
       "      <td>...</td>\n",
       "      <td>74.656012</td>\n",
       "      <td>97.296799</td>\n",
       "      <td>109.488636</td>\n",
       "      <td>91.452306</td>\n",
       "      <td>103.764979</td>\n",
       "      <td>108.464836</td>\n",
       "      <td>110.584831</td>\n",
       "      <td>110.188009</td>\n",
       "      <td>95.428902</td>\n",
       "      <td>91.697350</td>\n",
       "    </tr>\n",
       "    <tr>\n",
       "      <th>2019-11-05 00:02:00</th>\n",
       "      <td>94.386368</td>\n",
       "      <td>102.647774</td>\n",
       "      <td>87.449806</td>\n",
       "      <td>86.383228</td>\n",
       "      <td>NaN</td>\n",
       "      <td>83.691719</td>\n",
       "      <td>66.709484</td>\n",
       "      <td>106.517502</td>\n",
       "      <td>90.534679</td>\n",
       "      <td>98.237579</td>\n",
       "      <td>...</td>\n",
       "      <td>88.185567</td>\n",
       "      <td>101.224186</td>\n",
       "      <td>92.785136</td>\n",
       "      <td>84.924156</td>\n",
       "      <td>83.138504</td>\n",
       "      <td>113.091708</td>\n",
       "      <td>112.883886</td>\n",
       "      <td>92.486628</td>\n",
       "      <td>113.592051</td>\n",
       "      <td>115.223778</td>\n",
       "    </tr>\n",
       "    <tr>\n",
       "      <th>2019-11-05 00:03:00</th>\n",
       "      <td>80.918354</td>\n",
       "      <td>96.385818</td>\n",
       "      <td>91.669785</td>\n",
       "      <td>91.212303</td>\n",
       "      <td>80.765694</td>\n",
       "      <td>86.695862</td>\n",
       "      <td>87.335812</td>\n",
       "      <td>98.658936</td>\n",
       "      <td>89.150604</td>\n",
       "      <td>100.905117</td>\n",
       "      <td>...</td>\n",
       "      <td>89.059288</td>\n",
       "      <td>85.174328</td>\n",
       "      <td>104.964650</td>\n",
       "      <td>89.646152</td>\n",
       "      <td>105.344521</td>\n",
       "      <td>133.598927</td>\n",
       "      <td>84.535585</td>\n",
       "      <td>79.591124</td>\n",
       "      <td>101.083019</td>\n",
       "      <td>98.223356</td>\n",
       "    </tr>\n",
       "    <tr>\n",
       "      <th>2019-11-05 00:04:00</th>\n",
       "      <td>103.639690</td>\n",
       "      <td>84.957104</td>\n",
       "      <td>92.271114</td>\n",
       "      <td>103.514515</td>\n",
       "      <td>NaN</td>\n",
       "      <td>94.097865</td>\n",
       "      <td>88.365051</td>\n",
       "      <td>98.633747</td>\n",
       "      <td>80.178834</td>\n",
       "      <td>98.155011</td>\n",
       "      <td>...</td>\n",
       "      <td>95.166771</td>\n",
       "      <td>106.742462</td>\n",
       "      <td>93.910664</td>\n",
       "      <td>86.232574</td>\n",
       "      <td>108.588552</td>\n",
       "      <td>107.698845</td>\n",
       "      <td>105.207812</td>\n",
       "      <td>104.379168</td>\n",
       "      <td>103.132718</td>\n",
       "      <td>83.305611</td>\n",
       "    </tr>\n",
       "    <tr>\n",
       "      <th>...</th>\n",
       "      <td>...</td>\n",
       "      <td>...</td>\n",
       "      <td>...</td>\n",
       "      <td>...</td>\n",
       "      <td>...</td>\n",
       "      <td>...</td>\n",
       "      <td>...</td>\n",
       "      <td>...</td>\n",
       "      <td>...</td>\n",
       "      <td>...</td>\n",
       "      <td>...</td>\n",
       "      <td>...</td>\n",
       "      <td>...</td>\n",
       "      <td>...</td>\n",
       "      <td>...</td>\n",
       "      <td>...</td>\n",
       "      <td>...</td>\n",
       "      <td>...</td>\n",
       "      <td>...</td>\n",
       "      <td>...</td>\n",
       "      <td>...</td>\n",
       "    </tr>\n",
       "    <tr>\n",
       "      <th>2019-11-05 23:55:00</th>\n",
       "      <td>104.823855</td>\n",
       "      <td>105.322891</td>\n",
       "      <td>95.907168</td>\n",
       "      <td>96.504651</td>\n",
       "      <td>84.090721</td>\n",
       "      <td>86.618492</td>\n",
       "      <td>89.288040</td>\n",
       "      <td>86.331571</td>\n",
       "      <td>88.312988</td>\n",
       "      <td>79.740999</td>\n",
       "      <td>...</td>\n",
       "      <td>91.467499</td>\n",
       "      <td>91.361427</td>\n",
       "      <td>96.704737</td>\n",
       "      <td>82.959712</td>\n",
       "      <td>95.283223</td>\n",
       "      <td>90.790451</td>\n",
       "      <td>93.833889</td>\n",
       "      <td>92.721672</td>\n",
       "      <td>98.385426</td>\n",
       "      <td>104.665181</td>\n",
       "    </tr>\n",
       "    <tr>\n",
       "      <th>2019-11-05 23:56:00</th>\n",
       "      <td>102.021946</td>\n",
       "      <td>98.962479</td>\n",
       "      <td>107.990944</td>\n",
       "      <td>105.459335</td>\n",
       "      <td>93.246788</td>\n",
       "      <td>93.820023</td>\n",
       "      <td>85.808140</td>\n",
       "      <td>101.461563</td>\n",
       "      <td>98.114604</td>\n",
       "      <td>95.820727</td>\n",
       "      <td>...</td>\n",
       "      <td>87.490662</td>\n",
       "      <td>92.730835</td>\n",
       "      <td>88.656494</td>\n",
       "      <td>81.314148</td>\n",
       "      <td>95.221728</td>\n",
       "      <td>96.445271</td>\n",
       "      <td>110.470670</td>\n",
       "      <td>103.192192</td>\n",
       "      <td>102.902664</td>\n",
       "      <td>96.177048</td>\n",
       "    </tr>\n",
       "    <tr>\n",
       "      <th>2019-11-05 23:57:00</th>\n",
       "      <td>119.672818</td>\n",
       "      <td>101.145042</td>\n",
       "      <td>97.826714</td>\n",
       "      <td>75.299164</td>\n",
       "      <td>108.946407</td>\n",
       "      <td>68.251909</td>\n",
       "      <td>87.708115</td>\n",
       "      <td>98.633376</td>\n",
       "      <td>90.211029</td>\n",
       "      <td>94.708387</td>\n",
       "      <td>...</td>\n",
       "      <td>87.849693</td>\n",
       "      <td>99.203082</td>\n",
       "      <td>91.973076</td>\n",
       "      <td>79.943649</td>\n",
       "      <td>95.694438</td>\n",
       "      <td>102.233701</td>\n",
       "      <td>106.423113</td>\n",
       "      <td>106.393517</td>\n",
       "      <td>111.575829</td>\n",
       "      <td>97.182528</td>\n",
       "    </tr>\n",
       "    <tr>\n",
       "      <th>2019-11-05 23:58:00</th>\n",
       "      <td>110.031342</td>\n",
       "      <td>109.810913</td>\n",
       "      <td>102.201466</td>\n",
       "      <td>118.639923</td>\n",
       "      <td>83.359230</td>\n",
       "      <td>97.746389</td>\n",
       "      <td>99.749603</td>\n",
       "      <td>102.876930</td>\n",
       "      <td>86.028639</td>\n",
       "      <td>88.762519</td>\n",
       "      <td>...</td>\n",
       "      <td>83.600952</td>\n",
       "      <td>90.495196</td>\n",
       "      <td>96.875676</td>\n",
       "      <td>88.102142</td>\n",
       "      <td>87.697271</td>\n",
       "      <td>95.177757</td>\n",
       "      <td>84.209980</td>\n",
       "      <td>104.268238</td>\n",
       "      <td>90.200546</td>\n",
       "      <td>68.615312</td>\n",
       "    </tr>\n",
       "    <tr>\n",
       "      <th>2019-11-05 23:59:00</th>\n",
       "      <td>108.623657</td>\n",
       "      <td>120.590332</td>\n",
       "      <td>99.584385</td>\n",
       "      <td>94.071978</td>\n",
       "      <td>NaN</td>\n",
       "      <td>115.733994</td>\n",
       "      <td>65.048923</td>\n",
       "      <td>129.215141</td>\n",
       "      <td>85.414935</td>\n",
       "      <td>79.249741</td>\n",
       "      <td>...</td>\n",
       "      <td>90.593992</td>\n",
       "      <td>NaN</td>\n",
       "      <td>102.598345</td>\n",
       "      <td>86.187976</td>\n",
       "      <td>93.559237</td>\n",
       "      <td>98.474665</td>\n",
       "      <td>94.653844</td>\n",
       "      <td>97.867152</td>\n",
       "      <td>103.735260</td>\n",
       "      <td>110.083445</td>\n",
       "    </tr>\n",
       "  </tbody>\n",
       "</table>\n",
       "<p>1440 rows × 22 columns</p>\n",
       "</div>"
      ],
      "text/plain": [
       "                        sensor1     sensor2     sensor3     sensor4  \\\n",
       "2019-11-05 00:00:00   98.894310  126.933681   94.689281  107.328125   \n",
       "2019-11-05 00:01:00  101.238907  120.542236  109.287640   99.872089   \n",
       "2019-11-05 00:02:00   94.386368  102.647774   87.449806   86.383228   \n",
       "2019-11-05 00:03:00   80.918354   96.385818   91.669785   91.212303   \n",
       "2019-11-05 00:04:00  103.639690   84.957104   92.271114  103.514515   \n",
       "...                         ...         ...         ...         ...   \n",
       "2019-11-05 23:55:00  104.823855  105.322891   95.907168   96.504651   \n",
       "2019-11-05 23:56:00  102.021946   98.962479  107.990944  105.459335   \n",
       "2019-11-05 23:57:00  119.672818  101.145042   97.826714   75.299164   \n",
       "2019-11-05 23:58:00  110.031342  109.810913  102.201466  118.639923   \n",
       "2019-11-05 23:59:00  108.623657  120.590332   99.584385   94.071978   \n",
       "\n",
       "                        sensor5     sensor6    sensor7     sensor8    sensor9  \\\n",
       "2019-11-05 00:00:00         NaN   84.786873  96.313023   99.578835  85.912354   \n",
       "2019-11-05 00:01:00   90.789818   92.261373  85.954595  110.415169  90.073643   \n",
       "2019-11-05 00:02:00         NaN   83.691719  66.709484  106.517502  90.534679   \n",
       "2019-11-05 00:03:00   80.765694   86.695862  87.335812   98.658936  89.150604   \n",
       "2019-11-05 00:04:00         NaN   94.097865  88.365051   98.633747  80.178834   \n",
       "...                         ...         ...        ...         ...        ...   \n",
       "2019-11-05 23:55:00   84.090721   86.618492  89.288040   86.331571  88.312988   \n",
       "2019-11-05 23:56:00   93.246788   93.820023  85.808140  101.461563  98.114604   \n",
       "2019-11-05 23:57:00  108.946407   68.251909  87.708115   98.633376  90.211029   \n",
       "2019-11-05 23:58:00   83.359230   97.746389  99.749603  102.876930  86.028639   \n",
       "2019-11-05 23:59:00         NaN  115.733994  65.048923  129.215141  85.414935   \n",
       "\n",
       "                       sensor10  ...   sensor13    sensor14    sensor15  \\\n",
       "2019-11-05 00:00:00  100.292511  ...  95.543915   86.185856   99.401596   \n",
       "2019-11-05 00:01:00   94.676312  ...  74.656012   97.296799  109.488636   \n",
       "2019-11-05 00:02:00   98.237579  ...  88.185567  101.224186   92.785136   \n",
       "2019-11-05 00:03:00  100.905117  ...  89.059288   85.174328  104.964650   \n",
       "2019-11-05 00:04:00   98.155011  ...  95.166771  106.742462   93.910664   \n",
       "...                         ...  ...        ...         ...         ...   \n",
       "2019-11-05 23:55:00   79.740999  ...  91.467499   91.361427   96.704737   \n",
       "2019-11-05 23:56:00   95.820727  ...  87.490662   92.730835   88.656494   \n",
       "2019-11-05 23:57:00   94.708387  ...  87.849693   99.203082   91.973076   \n",
       "2019-11-05 23:58:00   88.762519  ...  83.600952   90.495196   96.875676   \n",
       "2019-11-05 23:59:00   79.249741  ...  90.593992         NaN  102.598345   \n",
       "\n",
       "                      sensor16    sensor17    sensor18    sensor19  \\\n",
       "2019-11-05 00:00:00  78.881619   83.114784   93.060748  100.478717   \n",
       "2019-11-05 00:01:00  91.452306  103.764979  108.464836  110.584831   \n",
       "2019-11-05 00:02:00  84.924156   83.138504  113.091708  112.883886   \n",
       "2019-11-05 00:03:00  89.646152  105.344521  133.598927   84.535585   \n",
       "2019-11-05 00:04:00  86.232574  108.588552  107.698845  105.207812   \n",
       "...                        ...         ...         ...         ...   \n",
       "2019-11-05 23:55:00  82.959712   95.283223   90.790451   93.833889   \n",
       "2019-11-05 23:56:00  81.314148   95.221728   96.445271  110.470670   \n",
       "2019-11-05 23:57:00  79.943649   95.694438  102.233701  106.423113   \n",
       "2019-11-05 23:58:00  88.102142   87.697271   95.177757   84.209980   \n",
       "2019-11-05 23:59:00  86.187976   93.559237   98.474665   94.653844   \n",
       "\n",
       "                       sensor20    sensor21    sensor22  \n",
       "2019-11-05 00:00:00  105.168165  103.595942   96.158620  \n",
       "2019-11-05 00:01:00  110.188009   95.428902   91.697350  \n",
       "2019-11-05 00:02:00   92.486628  113.592051  115.223778  \n",
       "2019-11-05 00:03:00   79.591124  101.083019   98.223356  \n",
       "2019-11-05 00:04:00  104.379168  103.132718   83.305611  \n",
       "...                         ...         ...         ...  \n",
       "2019-11-05 23:55:00   92.721672   98.385426  104.665181  \n",
       "2019-11-05 23:56:00  103.192192  102.902664   96.177048  \n",
       "2019-11-05 23:57:00  106.393517  111.575829   97.182528  \n",
       "2019-11-05 23:58:00  104.268238   90.200546   68.615312  \n",
       "2019-11-05 23:59:00   97.867152  103.735260  110.083445  \n",
       "\n",
       "[1440 rows x 22 columns]"
      ]
     },
     "execution_count": 34,
     "metadata": {},
     "output_type": "execute_result"
    }
   ],
   "source": [
    "df_None"
   ]
  },
  {
   "cell_type": "markdown",
   "metadata": {},
   "source": [
    "7. เติมข้อมูลที่เรามี ใน Dataframe ที่ว่างอยู่ด้วยข้อมูลที่มี"
   ]
  },
  {
   "cell_type": "code",
   "execution_count": 35,
   "metadata": {},
   "outputs": [
    {
     "ename": "KeyError",
     "evalue": "23",
     "output_type": "error",
     "traceback": [
      "\u001b[1;31m---------------------------------------------------------------------------\u001b[0m",
      "\u001b[1;31mKeyError\u001b[0m                                  Traceback (most recent call last)",
      "\u001b[1;32m~\\Anaconda3\\lib\\site-packages\\pandas\\core\\indexes\\base.py\u001b[0m in \u001b[0;36mget_loc\u001b[1;34m(self, key, method, tolerance)\u001b[0m\n\u001b[0;32m   2888\u001b[0m             \u001b[1;32mtry\u001b[0m\u001b[1;33m:\u001b[0m\u001b[1;33m\u001b[0m\u001b[1;33m\u001b[0m\u001b[0m\n\u001b[1;32m-> 2889\u001b[1;33m                 \u001b[1;32mreturn\u001b[0m \u001b[0mself\u001b[0m\u001b[1;33m.\u001b[0m\u001b[0m_engine\u001b[0m\u001b[1;33m.\u001b[0m\u001b[0mget_loc\u001b[0m\u001b[1;33m(\u001b[0m\u001b[0mcasted_key\u001b[0m\u001b[1;33m)\u001b[0m\u001b[1;33m\u001b[0m\u001b[1;33m\u001b[0m\u001b[0m\n\u001b[0m\u001b[0;32m   2890\u001b[0m             \u001b[1;32mexcept\u001b[0m \u001b[0mKeyError\u001b[0m \u001b[1;32mas\u001b[0m \u001b[0merr\u001b[0m\u001b[1;33m:\u001b[0m\u001b[1;33m\u001b[0m\u001b[1;33m\u001b[0m\u001b[0m\n",
      "\u001b[1;32mpandas\\_libs\\index.pyx\u001b[0m in \u001b[0;36mpandas._libs.index.IndexEngine.get_loc\u001b[1;34m()\u001b[0m\n",
      "\u001b[1;32mpandas\\_libs\\index.pyx\u001b[0m in \u001b[0;36mpandas._libs.index.IndexEngine.get_loc\u001b[1;34m()\u001b[0m\n",
      "\u001b[1;32mpandas\\_libs\\hashtable_class_helper.pxi\u001b[0m in \u001b[0;36mpandas._libs.hashtable.Int64HashTable.get_item\u001b[1;34m()\u001b[0m\n",
      "\u001b[1;32mpandas\\_libs\\hashtable_class_helper.pxi\u001b[0m in \u001b[0;36mpandas._libs.hashtable.Int64HashTable.get_item\u001b[1;34m()\u001b[0m\n",
      "\u001b[1;31mKeyError\u001b[0m: 23",
      "\nThe above exception was the direct cause of the following exception:\n",
      "\u001b[1;31mKeyError\u001b[0m                                  Traceback (most recent call last)",
      "\u001b[1;32m<ipython-input-35-105ab0ed93da>\u001b[0m in \u001b[0;36m<module>\u001b[1;34m\u001b[0m\n\u001b[0;32m      1\u001b[0m \u001b[1;32mfor\u001b[0m \u001b[0mi\u001b[0m \u001b[1;32min\u001b[0m \u001b[0mrange\u001b[0m\u001b[1;33m(\u001b[0m\u001b[1;36m1\u001b[0m\u001b[1;33m,\u001b[0m\u001b[1;36m34\u001b[0m\u001b[1;33m)\u001b[0m\u001b[1;33m:\u001b[0m\u001b[1;33m\u001b[0m\u001b[1;33m\u001b[0m\u001b[0m\n\u001b[1;32m----> 2\u001b[1;33m     \u001b[0mdf_None\u001b[0m\u001b[1;33m[\u001b[0m\u001b[1;34mf'sensor{i}'\u001b[0m\u001b[1;33m]\u001b[0m \u001b[1;33m=\u001b[0m \u001b[0mdata\u001b[0m\u001b[1;33m[\u001b[0m\u001b[1;34m'sensor_v2.avg_speed'\u001b[0m\u001b[1;33m]\u001b[0m\u001b[1;33m[\u001b[0m\u001b[0mi\u001b[0m\u001b[1;33m]\u001b[0m\u001b[1;33m\u001b[0m\u001b[1;33m\u001b[0m\u001b[0m\n\u001b[0m",
      "\u001b[1;32m~\\Anaconda3\\lib\\site-packages\\pandas\\core\\series.py\u001b[0m in \u001b[0;36m__getitem__\u001b[1;34m(self, key)\u001b[0m\n\u001b[0;32m    880\u001b[0m \u001b[1;33m\u001b[0m\u001b[0m\n\u001b[0;32m    881\u001b[0m         \u001b[1;32melif\u001b[0m \u001b[0mkey_is_scalar\u001b[0m\u001b[1;33m:\u001b[0m\u001b[1;33m\u001b[0m\u001b[1;33m\u001b[0m\u001b[0m\n\u001b[1;32m--> 882\u001b[1;33m             \u001b[1;32mreturn\u001b[0m \u001b[0mself\u001b[0m\u001b[1;33m.\u001b[0m\u001b[0m_get_value\u001b[0m\u001b[1;33m(\u001b[0m\u001b[0mkey\u001b[0m\u001b[1;33m)\u001b[0m\u001b[1;33m\u001b[0m\u001b[1;33m\u001b[0m\u001b[0m\n\u001b[0m\u001b[0;32m    883\u001b[0m \u001b[1;33m\u001b[0m\u001b[0m\n\u001b[0;32m    884\u001b[0m         if (\n",
      "\u001b[1;32m~\\Anaconda3\\lib\\site-packages\\pandas\\core\\series.py\u001b[0m in \u001b[0;36m_get_value\u001b[1;34m(self, label, takeable)\u001b[0m\n\u001b[0;32m    989\u001b[0m \u001b[1;33m\u001b[0m\u001b[0m\n\u001b[0;32m    990\u001b[0m         \u001b[1;31m# Similar to Index.get_value, but we do not fall back to positional\u001b[0m\u001b[1;33m\u001b[0m\u001b[1;33m\u001b[0m\u001b[1;33m\u001b[0m\u001b[0m\n\u001b[1;32m--> 991\u001b[1;33m         \u001b[0mloc\u001b[0m \u001b[1;33m=\u001b[0m \u001b[0mself\u001b[0m\u001b[1;33m.\u001b[0m\u001b[0mindex\u001b[0m\u001b[1;33m.\u001b[0m\u001b[0mget_loc\u001b[0m\u001b[1;33m(\u001b[0m\u001b[0mlabel\u001b[0m\u001b[1;33m)\u001b[0m\u001b[1;33m\u001b[0m\u001b[1;33m\u001b[0m\u001b[0m\n\u001b[0m\u001b[0;32m    992\u001b[0m         \u001b[1;32mreturn\u001b[0m \u001b[0mself\u001b[0m\u001b[1;33m.\u001b[0m\u001b[0mindex\u001b[0m\u001b[1;33m.\u001b[0m\u001b[0m_get_values_for_loc\u001b[0m\u001b[1;33m(\u001b[0m\u001b[0mself\u001b[0m\u001b[1;33m,\u001b[0m \u001b[0mloc\u001b[0m\u001b[1;33m,\u001b[0m \u001b[0mlabel\u001b[0m\u001b[1;33m)\u001b[0m\u001b[1;33m\u001b[0m\u001b[1;33m\u001b[0m\u001b[0m\n\u001b[0;32m    993\u001b[0m \u001b[1;33m\u001b[0m\u001b[0m\n",
      "\u001b[1;32m~\\Anaconda3\\lib\\site-packages\\pandas\\core\\indexes\\multi.py\u001b[0m in \u001b[0;36mget_loc\u001b[1;34m(self, key, method)\u001b[0m\n\u001b[0;32m   2698\u001b[0m         \u001b[1;32mif\u001b[0m \u001b[1;32mnot\u001b[0m \u001b[0misinstance\u001b[0m\u001b[1;33m(\u001b[0m\u001b[0mkey\u001b[0m\u001b[1;33m,\u001b[0m \u001b[1;33m(\u001b[0m\u001b[0mtuple\u001b[0m\u001b[1;33m,\u001b[0m \u001b[0mlist\u001b[0m\u001b[1;33m)\u001b[0m\u001b[1;33m)\u001b[0m\u001b[1;33m:\u001b[0m\u001b[1;33m\u001b[0m\u001b[1;33m\u001b[0m\u001b[0m\n\u001b[0;32m   2699\u001b[0m             \u001b[1;31m# not including list here breaks some indexing, xref #30892\u001b[0m\u001b[1;33m\u001b[0m\u001b[1;33m\u001b[0m\u001b[1;33m\u001b[0m\u001b[0m\n\u001b[1;32m-> 2700\u001b[1;33m             \u001b[0mloc\u001b[0m \u001b[1;33m=\u001b[0m \u001b[0mself\u001b[0m\u001b[1;33m.\u001b[0m\u001b[0m_get_level_indexer\u001b[0m\u001b[1;33m(\u001b[0m\u001b[0mkey\u001b[0m\u001b[1;33m,\u001b[0m \u001b[0mlevel\u001b[0m\u001b[1;33m=\u001b[0m\u001b[1;36m0\u001b[0m\u001b[1;33m)\u001b[0m\u001b[1;33m\u001b[0m\u001b[1;33m\u001b[0m\u001b[0m\n\u001b[0m\u001b[0;32m   2701\u001b[0m             \u001b[1;32mreturn\u001b[0m \u001b[0m_maybe_to_slice\u001b[0m\u001b[1;33m(\u001b[0m\u001b[0mloc\u001b[0m\u001b[1;33m)\u001b[0m\u001b[1;33m\u001b[0m\u001b[1;33m\u001b[0m\u001b[0m\n\u001b[0;32m   2702\u001b[0m \u001b[1;33m\u001b[0m\u001b[0m\n",
      "\u001b[1;32m~\\Anaconda3\\lib\\site-packages\\pandas\\core\\indexes\\multi.py\u001b[0m in \u001b[0;36m_get_level_indexer\u001b[1;34m(self, key, level, indexer)\u001b[0m\n\u001b[0;32m   2963\u001b[0m         \u001b[1;32melse\u001b[0m\u001b[1;33m:\u001b[0m\u001b[1;33m\u001b[0m\u001b[1;33m\u001b[0m\u001b[0m\n\u001b[0;32m   2964\u001b[0m \u001b[1;33m\u001b[0m\u001b[0m\n\u001b[1;32m-> 2965\u001b[1;33m             \u001b[0mcode\u001b[0m \u001b[1;33m=\u001b[0m \u001b[0mself\u001b[0m\u001b[1;33m.\u001b[0m\u001b[0m_get_loc_single_level_index\u001b[0m\u001b[1;33m(\u001b[0m\u001b[0mlevel_index\u001b[0m\u001b[1;33m,\u001b[0m \u001b[0mkey\u001b[0m\u001b[1;33m)\u001b[0m\u001b[1;33m\u001b[0m\u001b[1;33m\u001b[0m\u001b[0m\n\u001b[0m\u001b[0;32m   2966\u001b[0m \u001b[1;33m\u001b[0m\u001b[0m\n\u001b[0;32m   2967\u001b[0m             \u001b[1;32mif\u001b[0m \u001b[0mlevel\u001b[0m \u001b[1;33m>\u001b[0m \u001b[1;36m0\u001b[0m \u001b[1;32mor\u001b[0m \u001b[0mself\u001b[0m\u001b[1;33m.\u001b[0m\u001b[0mlexsort_depth\u001b[0m \u001b[1;33m==\u001b[0m \u001b[1;36m0\u001b[0m\u001b[1;33m:\u001b[0m\u001b[1;33m\u001b[0m\u001b[1;33m\u001b[0m\u001b[0m\n",
      "\u001b[1;32m~\\Anaconda3\\lib\\site-packages\\pandas\\core\\indexes\\multi.py\u001b[0m in \u001b[0;36m_get_loc_single_level_index\u001b[1;34m(self, level_index, key)\u001b[0m\n\u001b[0;32m   2632\u001b[0m             \u001b[1;32mreturn\u001b[0m \u001b[1;33m-\u001b[0m\u001b[1;36m1\u001b[0m\u001b[1;33m\u001b[0m\u001b[1;33m\u001b[0m\u001b[0m\n\u001b[0;32m   2633\u001b[0m         \u001b[1;32melse\u001b[0m\u001b[1;33m:\u001b[0m\u001b[1;33m\u001b[0m\u001b[1;33m\u001b[0m\u001b[0m\n\u001b[1;32m-> 2634\u001b[1;33m             \u001b[1;32mreturn\u001b[0m \u001b[0mlevel_index\u001b[0m\u001b[1;33m.\u001b[0m\u001b[0mget_loc\u001b[0m\u001b[1;33m(\u001b[0m\u001b[0mkey\u001b[0m\u001b[1;33m)\u001b[0m\u001b[1;33m\u001b[0m\u001b[1;33m\u001b[0m\u001b[0m\n\u001b[0m\u001b[0;32m   2635\u001b[0m \u001b[1;33m\u001b[0m\u001b[0m\n\u001b[0;32m   2636\u001b[0m     \u001b[1;32mdef\u001b[0m \u001b[0mget_loc\u001b[0m\u001b[1;33m(\u001b[0m\u001b[0mself\u001b[0m\u001b[1;33m,\u001b[0m \u001b[0mkey\u001b[0m\u001b[1;33m,\u001b[0m \u001b[0mmethod\u001b[0m\u001b[1;33m=\u001b[0m\u001b[1;32mNone\u001b[0m\u001b[1;33m)\u001b[0m\u001b[1;33m:\u001b[0m\u001b[1;33m\u001b[0m\u001b[1;33m\u001b[0m\u001b[0m\n",
      "\u001b[1;32m~\\Anaconda3\\lib\\site-packages\\pandas\\core\\indexes\\base.py\u001b[0m in \u001b[0;36mget_loc\u001b[1;34m(self, key, method, tolerance)\u001b[0m\n\u001b[0;32m   2889\u001b[0m                 \u001b[1;32mreturn\u001b[0m \u001b[0mself\u001b[0m\u001b[1;33m.\u001b[0m\u001b[0m_engine\u001b[0m\u001b[1;33m.\u001b[0m\u001b[0mget_loc\u001b[0m\u001b[1;33m(\u001b[0m\u001b[0mcasted_key\u001b[0m\u001b[1;33m)\u001b[0m\u001b[1;33m\u001b[0m\u001b[1;33m\u001b[0m\u001b[0m\n\u001b[0;32m   2890\u001b[0m             \u001b[1;32mexcept\u001b[0m \u001b[0mKeyError\u001b[0m \u001b[1;32mas\u001b[0m \u001b[0merr\u001b[0m\u001b[1;33m:\u001b[0m\u001b[1;33m\u001b[0m\u001b[1;33m\u001b[0m\u001b[0m\n\u001b[1;32m-> 2891\u001b[1;33m                 \u001b[1;32mraise\u001b[0m \u001b[0mKeyError\u001b[0m\u001b[1;33m(\u001b[0m\u001b[0mkey\u001b[0m\u001b[1;33m)\u001b[0m \u001b[1;32mfrom\u001b[0m \u001b[0merr\u001b[0m\u001b[1;33m\u001b[0m\u001b[1;33m\u001b[0m\u001b[0m\n\u001b[0m\u001b[0;32m   2892\u001b[0m \u001b[1;33m\u001b[0m\u001b[0m\n\u001b[0;32m   2893\u001b[0m         \u001b[1;32mif\u001b[0m \u001b[0mtolerance\u001b[0m \u001b[1;32mis\u001b[0m \u001b[1;32mnot\u001b[0m \u001b[1;32mNone\u001b[0m\u001b[1;33m:\u001b[0m\u001b[1;33m\u001b[0m\u001b[1;33m\u001b[0m\u001b[0m\n",
      "\u001b[1;31mKeyError\u001b[0m: 23"
     ]
    }
   ],
   "source": [
    "for i in range(1,34):\n",
    "    df_None[f'sensor{i}'] = data['sensor_v2.avg_speed'][i]"
   ]
  },
  {
   "cell_type": "code",
   "execution_count": 29,
   "metadata": {},
   "outputs": [
    {
     "data": {
      "text/plain": [
       "2019-11-05 00:00:00     86.185856\n",
       "2019-11-05 00:01:00     97.296799\n",
       "2019-11-05 00:02:00    101.224186\n",
       "2019-11-05 00:03:00     85.174328\n",
       "2019-11-05 00:04:00    106.742462\n",
       "                          ...    \n",
       "2019-11-05 23:55:00     91.361427\n",
       "2019-11-05 23:56:00     92.730835\n",
       "2019-11-05 23:57:00     99.203082\n",
       "2019-11-05 23:58:00     90.495196\n",
       "2019-11-05 23:59:00           NaN\n",
       "Freq: T, Name: sensor14, Length: 1440, dtype: float64"
      ]
     },
     "execution_count": 29,
     "metadata": {},
     "output_type": "execute_result"
    }
   ],
   "source": [
    "df_None['sensor14']"
   ]
  },
  {
   "cell_type": "markdown",
   "metadata": {},
   "source": [
    "8. พลอต กราฟ "
   ]
  },
  {
   "cell_type": "code",
   "execution_count": 24,
   "metadata": {},
   "outputs": [],
   "source": [
    "df_None.to_csv('plotData.csv')"
   ]
  },
  {
   "cell_type": "code",
   "execution_count": 25,
   "metadata": {},
   "outputs": [],
   "source": [
    "Z = df_None.to_numpy().transpose()"
   ]
  },
  {
   "cell_type": "code",
   "execution_count": 26,
   "metadata": {},
   "outputs": [],
   "source": [
    "import matplotlib.pyplot as plt"
   ]
  },
  {
   "cell_type": "code",
   "execution_count": 27,
   "metadata": {},
   "outputs": [],
   "source": [
    "y = np.arange(1,34)\n",
    "x = np.arange(1440)"
   ]
  },
  {
   "cell_type": "code",
   "execution_count": 28,
   "metadata": {},
   "outputs": [],
   "source": [
    "X, Y = np.meshgrid(x,y)"
   ]
  },
  {
   "cell_type": "code",
   "execution_count": 29,
   "metadata": {},
   "outputs": [
    {
     "data": {
      "image/png": "[encoded data removed]",
      "text/plain": [
       "<Figure size 432x288 with 2 Axes>"
      ]
     },
     "metadata": {
      "needs_background": "light"
     },
     "output_type": "display_data"
    }
   ],
   "source": [
    "fig = plt.figure()\n",
    "ax1 = plt.contourf(X, Y, Z)\n",
    "plt.colorbar(ax1)\n",
    "plt.ylabel('sensor index')\n",
    "plt.xlabel('time(minute)')\n",
    "plt.savefig('growth24.png')\n",
    "plt.show()"
   ]
  },
  {
   "cell_type": "code",
   "execution_count": null,
   "metadata": {},
   "outputs": [],
   "source": []
  }
 ],
 "metadata": {
  "kernelspec": {
   "display_name": "Python 3",
   "language": "python",
   "name": "python3"
  },
  "language_info": {
   "codemirror_mode": {
    "name": "ipython",
    "version": 3
   },
   "file_extension": ".py",
   "mimetype": "text/x-python",
   "name": "python",
   "nbconvert_exporter": "python",
   "pygments_lexer": "ipython3",
   "version": "3.7.4"
  }
 },
 "nbformat": 4,
 "nbformat_minor": 4
}
